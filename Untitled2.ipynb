{
 "cells": [
  {
   "cell_type": "code",
   "execution_count": 1,
   "metadata": {},
   "outputs": [
    {
     "ename": "IndentationError",
     "evalue": "expected an indented block (<ipython-input-1-9a38bf328a87>, line 10)",
     "output_type": "error",
     "traceback": [
      "\u001b[0;36m  File \u001b[0;32m\"<ipython-input-1-9a38bf328a87>\"\u001b[0;36m, line \u001b[0;32m10\u001b[0m\n\u001b[0;31m    pass\u001b[0m\n\u001b[0m       ^\u001b[0m\n\u001b[0;31mIndentationError\u001b[0m\u001b[0;31m:\u001b[0m expected an indented block\n"
     ]
    }
   ],
   "source": [
    "import numpy as np\n",
    "import cv2 as cv\n",
    "def generate():\n",
    "    face_cascade=cv.CascadeClassifier(cv.data.haarcascades+'haarcascade_frontalface_default.xml')\n",
    "    #eyes_cascade=cv.CascadeClassifier(cv.data.haarcascades+'haarcascade_eye.xml')\n",
    "    #img=cv.imread('/Users/saikscbs/Desktop/proj3/i.jpg')\n",
    "    cap=cv.VideoCapture(0)\n",
    "    d=cap.isOpened()\n",
    "    if d==1:\n",
    "    pass\n",
    "    else:\n",
    "    cap.Open()\n",
    "    cap=cv.VideoCapture(0)\n",
    "    while (cap.isOpened()):\n",
    "    ret,img =cap.read()\n",
    "    #print(img)\n",
    "    #cv.imshow('boxer',img)\n",
    "    img=cv.resize(img,(0,0),fx=0.5,fy=0.5)\n",
    "    faces=face_cascade.detectMultiScale(img,scaleFactor=1.1,minNeighbors=5)\n",
    "    #print(faces)\n",
    "    i=0                   \n",
    "    for(x,y,w,h) in faces:\n",
    "        #print(\"drawing rectangles\")\n",
    "        rectangle=cv.rectangle(img,(x,y),(x+w,y+h),(255,0,0),2)\n",
    "        i=i+1\n",
    "        rectangle=cv.putText(rectangle,'face num'+str(i),(x-10,y-10),cv.FONT_HERSHEY_SIMPLEX,0.7,(0,0,255),2)\n",
    "        #print(img,i)\n",
    "        cv.imshow('boxer',rectangle)\n",
    "        height=int(cap.get(4))\n",
    "        width=int(cap.get(3))\n",
    "        fps=cap.get(cv.CAP_PROP_FPS)\n",
    "        fourcc=cv.VideoWriter_fourcc(*'mp4v')\n",
    "        #PATH='Users/saikscbs/Documents/project2/proj3/static/demo.webm'\n",
    "        #frameSize=[]\n",
    "        #out=cv.VideoWriter('rectangle.mp4',fourcc,20.0,(640,480))\n",
    "        #out.write(rectangle)\n",
    "        jpegs = cv.imencode('.jpg', rectangle)[1].tobytes()\n",
    "        yield (b'--frame\\r\\n'+b'Content-Type: image/jpeg\\r\\n\\r\\n' + jpegs + b'\\r\\n\\r\\n')\n",
    "        if(cv.waitKey(1) & 0xFF ==ord('q')):\n",
    "            break\n",
    "generate()"
   ]
  },
  {
   "cell_type": "code",
   "execution_count": null,
   "metadata": {},
   "outputs": [],
   "source": []
  }
 ],
 "metadata": {
  "kernelspec": {
   "display_name": "Python 3",
   "language": "python",
   "name": "python3"
  },
  "language_info": {
   "codemirror_mode": {
    "name": "ipython",
    "version": 3
   },
   "file_extension": ".py",
   "mimetype": "text/x-python",
   "name": "python",
   "nbconvert_exporter": "python",
   "pygments_lexer": "ipython3",
   "version": "3.7.2"
  }
 },
 "nbformat": 4,
 "nbformat_minor": 4
}
